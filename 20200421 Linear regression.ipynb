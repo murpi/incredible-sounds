{
 "cells": [
  {
   "cell_type": "markdown",
   "metadata": {
    "colab_type": "text",
    "id": "ZAhyOTCMwG6S"
   },
   "source": [
    "#import"
   ]
  },
  {
   "cell_type": "code",
   "execution_count": 1,
   "metadata": {
    "colab": {
     "base_uri": "https://localhost:8080/",
     "height": 375
    },
    "colab_type": "code",
    "executionInfo": {
     "elapsed": 14387,
     "status": "error",
     "timestamp": 1587483498460,
     "user": {
      "displayName": "Pierre Mur",
      "photoUrl": "",
      "userId": "07069703174558487986"
     },
     "user_tz": -120
    },
    "id": "tGXwHOodmsen",
    "outputId": "e675d99d-3a8c-4ea6-84e5-ee18ee3560ae"
   },
   "outputs": [],
   "source": [
    "import matplotlib.pyplot as plt\n",
    "import pandas as pd\n",
    "import numpy as np\n",
    "import seaborn as sns\n",
    "link = \"https://raw.githubusercontent.com/murpi/wilddata/master/quests/weather2019.csv\"\n",
    "df_weather = pd.read_csv(link)\n",
    "df_weather['DAY_OF_YEAR'] = df_weather.index+1\n",
    "df_weather = df_weather.iloc[:,[0,1,2,3,4,5,-1]]"
   ]
  },
  {
   "cell_type": "code",
   "execution_count": 2,
   "metadata": {
    "colab": {},
    "colab_type": "code",
    "id": "I3IkOd9om0lN"
   },
   "outputs": [
    {
     "data": {
      "text/html": [
       "<div>\n",
       "<style scoped>\n",
       "    .dataframe tbody tr th:only-of-type {\n",
       "        vertical-align: middle;\n",
       "    }\n",
       "\n",
       "    .dataframe tbody tr th {\n",
       "        vertical-align: top;\n",
       "    }\n",
       "\n",
       "    .dataframe thead th {\n",
       "        text-align: right;\n",
       "    }\n",
       "</style>\n",
       "<table border=\"1\" class=\"dataframe\">\n",
       "  <thead>\n",
       "    <tr style=\"text-align: right;\">\n",
       "      <th></th>\n",
       "      <th>DATE</th>\n",
       "      <th>MAX_TEMPERATURE_C</th>\n",
       "      <th>MIN_TEMPERATURE_C</th>\n",
       "      <th>WINDSPEED_MAX_KMH</th>\n",
       "      <th>TEMPERATURE_MORNING_C</th>\n",
       "      <th>TEMPERATURE_NOON_C</th>\n",
       "      <th>DAY_OF_YEAR</th>\n",
       "    </tr>\n",
       "  </thead>\n",
       "  <tbody>\n",
       "    <tr>\n",
       "      <th>0</th>\n",
       "      <td>2019-01-01</td>\n",
       "      <td>9</td>\n",
       "      <td>4</td>\n",
       "      <td>10</td>\n",
       "      <td>4</td>\n",
       "      <td>7</td>\n",
       "      <td>1</td>\n",
       "    </tr>\n",
       "    <tr>\n",
       "      <th>1</th>\n",
       "      <td>2019-01-02</td>\n",
       "      <td>8</td>\n",
       "      <td>5</td>\n",
       "      <td>18</td>\n",
       "      <td>7</td>\n",
       "      <td>7</td>\n",
       "      <td>2</td>\n",
       "    </tr>\n",
       "    <tr>\n",
       "      <th>2</th>\n",
       "      <td>2019-01-03</td>\n",
       "      <td>6</td>\n",
       "      <td>0</td>\n",
       "      <td>18</td>\n",
       "      <td>0</td>\n",
       "      <td>4</td>\n",
       "      <td>3</td>\n",
       "    </tr>\n",
       "    <tr>\n",
       "      <th>3</th>\n",
       "      <td>2019-01-04</td>\n",
       "      <td>5</td>\n",
       "      <td>-1</td>\n",
       "      <td>15</td>\n",
       "      <td>-1</td>\n",
       "      <td>4</td>\n",
       "      <td>4</td>\n",
       "    </tr>\n",
       "    <tr>\n",
       "      <th>4</th>\n",
       "      <td>2019-01-05</td>\n",
       "      <td>6</td>\n",
       "      <td>-1</td>\n",
       "      <td>8</td>\n",
       "      <td>-1</td>\n",
       "      <td>4</td>\n",
       "      <td>5</td>\n",
       "    </tr>\n",
       "    <tr>\n",
       "      <th>...</th>\n",
       "      <td>...</td>\n",
       "      <td>...</td>\n",
       "      <td>...</td>\n",
       "      <td>...</td>\n",
       "      <td>...</td>\n",
       "      <td>...</td>\n",
       "      <td>...</td>\n",
       "    </tr>\n",
       "    <tr>\n",
       "      <th>360</th>\n",
       "      <td>2019-12-27</td>\n",
       "      <td>13</td>\n",
       "      <td>10</td>\n",
       "      <td>13</td>\n",
       "      <td>10</td>\n",
       "      <td>12</td>\n",
       "      <td>361</td>\n",
       "    </tr>\n",
       "    <tr>\n",
       "      <th>361</th>\n",
       "      <td>2019-12-28</td>\n",
       "      <td>11</td>\n",
       "      <td>5</td>\n",
       "      <td>12</td>\n",
       "      <td>7</td>\n",
       "      <td>8</td>\n",
       "      <td>362</td>\n",
       "    </tr>\n",
       "    <tr>\n",
       "      <th>362</th>\n",
       "      <td>2019-12-29</td>\n",
       "      <td>9</td>\n",
       "      <td>2</td>\n",
       "      <td>11</td>\n",
       "      <td>3</td>\n",
       "      <td>6</td>\n",
       "      <td>363</td>\n",
       "    </tr>\n",
       "    <tr>\n",
       "      <th>363</th>\n",
       "      <td>2019-12-30</td>\n",
       "      <td>12</td>\n",
       "      <td>4</td>\n",
       "      <td>7</td>\n",
       "      <td>5</td>\n",
       "      <td>9</td>\n",
       "      <td>364</td>\n",
       "    </tr>\n",
       "    <tr>\n",
       "      <th>364</th>\n",
       "      <td>2019-12-31</td>\n",
       "      <td>10</td>\n",
       "      <td>4</td>\n",
       "      <td>13</td>\n",
       "      <td>4</td>\n",
       "      <td>7</td>\n",
       "      <td>365</td>\n",
       "    </tr>\n",
       "  </tbody>\n",
       "</table>\n",
       "<p>365 rows × 7 columns</p>\n",
       "</div>"
      ],
      "text/plain": [
       "           DATE  MAX_TEMPERATURE_C  MIN_TEMPERATURE_C  WINDSPEED_MAX_KMH  \\\n",
       "0    2019-01-01                  9                  4                 10   \n",
       "1    2019-01-02                  8                  5                 18   \n",
       "2    2019-01-03                  6                  0                 18   \n",
       "3    2019-01-04                  5                 -1                 15   \n",
       "4    2019-01-05                  6                 -1                  8   \n",
       "..          ...                ...                ...                ...   \n",
       "360  2019-12-27                 13                 10                 13   \n",
       "361  2019-12-28                 11                  5                 12   \n",
       "362  2019-12-29                  9                  2                 11   \n",
       "363  2019-12-30                 12                  4                  7   \n",
       "364  2019-12-31                 10                  4                 13   \n",
       "\n",
       "     TEMPERATURE_MORNING_C  TEMPERATURE_NOON_C  DAY_OF_YEAR  \n",
       "0                        4                   7            1  \n",
       "1                        7                   7            2  \n",
       "2                        0                   4            3  \n",
       "3                       -1                   4            4  \n",
       "4                       -1                   4            5  \n",
       "..                     ...                 ...          ...  \n",
       "360                     10                  12          361  \n",
       "361                      7                   8          362  \n",
       "362                      3                   6          363  \n",
       "363                      5                   9          364  \n",
       "364                      4                   7          365  \n",
       "\n",
       "[365 rows x 7 columns]"
      ]
     },
     "execution_count": 2,
     "metadata": {},
     "output_type": "execute_result"
    }
   ],
   "source": [
    "df_weather"
   ]
  },
  {
   "cell_type": "markdown",
   "metadata": {
    "colab_type": "text",
    "id": "4InLl87dwKwt"
   },
   "source": [
    "#Seaborn  régression linéaire, mais sans accès à l'équation"
   ]
  },
  {
   "cell_type": "code",
   "execution_count": 4,
   "metadata": {
    "colab": {
     "base_uri": "https://localhost:8080/",
     "height": 297
    },
    "colab_type": "code",
    "executionInfo": {
     "elapsed": 775,
     "status": "ok",
     "timestamp": 1587470746544,
     "user": {
      "displayName": "Pierre Mur",
      "photoUrl": "",
      "userId": "07069703174558487986"
     },
     "user_tz": -120
    },
    "id": "hYvESCg3oKgL",
    "outputId": "35392186-0627-4031-bee8-82f070f187d9"
   },
   "outputs": [
    {
     "data": {
      "text/plain": [
       "<matplotlib.axes._subplots.AxesSubplot at 0x1a1c5542d0>"
      ]
     },
     "execution_count": 4,
     "metadata": {},
     "output_type": "execute_result"
    },
    {
     "data": {
      "image/png": "[encoded data removed]",
      "text/plain": [
       "<Figure size 432x288 with 1 Axes>"
      ]
     },
     "metadata": {
      "needs_background": "light"
     },
     "output_type": "display_data"
    }
   ],
   "source": [
    "sns.scatterplot(data = df_weather, x = 'DAY_OF_YEAR', y = 'MAX_TEMPERATURE_C', color = 'red')"
   ]
  },
  {
   "cell_type": "code",
   "execution_count": 5,
   "metadata": {
    "colab": {
     "base_uri": "https://localhost:8080/",
     "height": 297
    },
    "colab_type": "code",
    "executionInfo": {
     "elapsed": 1361,
     "status": "ok",
     "timestamp": 1587470785496,
     "user": {
      "displayName": "Pierre Mur",
      "photoUrl": "",
      "userId": "07069703174558487986"
     },
     "user_tz": -120
    },
    "id": "Hiz05G_2obZh",
    "outputId": "7d2ae26f-bf83-4491-a4b1-e1ba4fa70f06"
   },
   "outputs": [
    {
     "data": {
      "text/plain": [
       "<matplotlib.axes._subplots.AxesSubplot at 0x1a1c68aa10>"
      ]
     },
     "execution_count": 5,
     "metadata": {},
     "output_type": "execute_result"
    },
    {
     "data": {
      "image/png": "[encoded data removed]",
      "text/plain": [
       "<Figure size 432x288 with 1 Axes>"
      ]
     },
     "metadata": {
      "needs_background": "light"
     },
     "output_type": "display_data"
    }
   ],
   "source": [
    "sns.regplot(data = df_weather, x = 'DAY_OF_YEAR', y = 'MAX_TEMPERATURE_C')"
   ]
  },
  {
   "cell_type": "markdown",
   "metadata": {
    "colab_type": "text",
    "id": "aIfYimTRwQxM"
   },
   "source": [
    "#Heatmap de corrélation pour trouver un axe corrélé, sans surprise la tempréature minimale"
   ]
  },
  {
   "cell_type": "code",
   "execution_count": null,
   "metadata": {
    "colab": {
     "base_uri": "https://localhost:8080/",
     "height": 414
    },
    "colab_type": "code",
    "executionInfo": {
     "elapsed": 1119,
     "status": "ok",
     "timestamp": 1587470869123,
     "user": {
      "displayName": "Pierre Mur",
      "photoUrl": "",
      "userId": "07069703174558487986"
     },
     "user_tz": -120
    },
    "id": "2GG42UacoqpW",
    "outputId": "ef897dcb-4271-4de8-e1d9-bfcc2cc473a5"
   },
   "outputs": [
    {
     "data": {
      "text/plain": [
       "<matplotlib.axes._subplots.AxesSubplot at 0x7fdd79485c88>"
      ]
     },
     "execution_count": 6,
     "metadata": {
      "tags": []
     },
     "output_type": "execute_result"
    },
    {
     "data": {
      "image/png": "[encoded data removed]",
      "text/plain": [
       "<Figure size 432x288 with 2 Axes>"
      ]
     },
     "metadata": {
      "needs_background": "light",
      "tags": []
     },
     "output_type": "display_data"
    }
   ],
   "source": [
    "sns.heatmap(df_weather.corr())"
   ]
  },
  {
   "cell_type": "code",
   "execution_count": null,
   "metadata": {
    "colab": {
     "base_uri": "https://localhost:8080/",
     "height": 166
    },
    "colab_type": "code",
    "executionInfo": {
     "elapsed": 575,
     "status": "ok",
     "timestamp": 1587470951625,
     "user": {
      "displayName": "Pierre Mur",
      "photoUrl": "",
      "userId": "07069703174558487986"
     },
     "user_tz": -120
    },
    "id": "1fPIeDN3o8kB",
    "outputId": "bd584dfc-7b0b-43ee-f23a-a243c02af8f1"
   },
   "outputs": [
    {
     "data": {
      "text/html": [
       "<style  type=\"text/css\" >\n",
       "    #T_e902c412_83c8_11ea_a6ba_0242ac1c0002row0_col0 {\n",
       "            background-color:  #b40426;\n",
       "            color:  #f1f1f1;\n",
       "        }    #T_e902c412_83c8_11ea_a6ba_0242ac1c0002row0_col1 {\n",
       "            background-color:  #e16751;\n",
       "            color:  #000000;\n",
       "        }    #T_e902c412_83c8_11ea_a6ba_0242ac1c0002row0_col2 {\n",
       "            background-color:  #3b4cc0;\n",
       "            color:  #f1f1f1;\n",
       "        }    #T_e902c412_83c8_11ea_a6ba_0242ac1c0002row0_col3 {\n",
       "            background-color:  #f08b6e;\n",
       "            color:  #000000;\n",
       "        }    #T_e902c412_83c8_11ea_a6ba_0242ac1c0002row0_col4 {\n",
       "            background-color:  #bb1b2c;\n",
       "            color:  #f1f1f1;\n",
       "        }    #T_e902c412_83c8_11ea_a6ba_0242ac1c0002row0_col5 {\n",
       "            background-color:  #4961d2;\n",
       "            color:  #f1f1f1;\n",
       "        }    #T_e902c412_83c8_11ea_a6ba_0242ac1c0002row1_col0 {\n",
       "            background-color:  #d95847;\n",
       "            color:  #000000;\n",
       "        }    #T_e902c412_83c8_11ea_a6ba_0242ac1c0002row1_col1 {\n",
       "            background-color:  #b40426;\n",
       "            color:  #f1f1f1;\n",
       "        }    #T_e902c412_83c8_11ea_a6ba_0242ac1c0002row1_col2 {\n",
       "            background-color:  #7ea1fa;\n",
       "            color:  #000000;\n",
       "        }    #T_e902c412_83c8_11ea_a6ba_0242ac1c0002row1_col3 {\n",
       "            background-color:  #ca3b37;\n",
       "            color:  #f1f1f1;\n",
       "        }    #T_e902c412_83c8_11ea_a6ba_0242ac1c0002row1_col4 {\n",
       "            background-color:  #d85646;\n",
       "            color:  #000000;\n",
       "        }    #T_e902c412_83c8_11ea_a6ba_0242ac1c0002row1_col5 {\n",
       "            background-color:  #6b8df0;\n",
       "            color:  #000000;\n",
       "        }    #T_e902c412_83c8_11ea_a6ba_0242ac1c0002row2_col0 {\n",
       "            background-color:  #3b4cc0;\n",
       "            color:  #f1f1f1;\n",
       "        }    #T_e902c412_83c8_11ea_a6ba_0242ac1c0002row2_col1 {\n",
       "            background-color:  #3b4cc0;\n",
       "            color:  #f1f1f1;\n",
       "        }    #T_e902c412_83c8_11ea_a6ba_0242ac1c0002row2_col2 {\n",
       "            background-color:  #b40426;\n",
       "            color:  #f1f1f1;\n",
       "        }    #T_e902c412_83c8_11ea_a6ba_0242ac1c0002row2_col3 {\n",
       "            background-color:  #3b4cc0;\n",
       "            color:  #f1f1f1;\n",
       "        }    #T_e902c412_83c8_11ea_a6ba_0242ac1c0002row2_col4 {\n",
       "            background-color:  #3b4cc0;\n",
       "            color:  #f1f1f1;\n",
       "        }    #T_e902c412_83c8_11ea_a6ba_0242ac1c0002row2_col5 {\n",
       "            background-color:  #3b4cc0;\n",
       "            color:  #f1f1f1;\n",
       "        }    #T_e902c412_83c8_11ea_a6ba_0242ac1c0002row3_col0 {\n",
       "            background-color:  #e57058;\n",
       "            color:  #000000;\n",
       "        }    #T_e902c412_83c8_11ea_a6ba_0242ac1c0002row3_col1 {\n",
       "            background-color:  #c83836;\n",
       "            color:  #f1f1f1;\n",
       "        }    #T_e902c412_83c8_11ea_a6ba_0242ac1c0002row3_col2 {\n",
       "            background-color:  #94b6ff;\n",
       "            color:  #000000;\n",
       "        }    #T_e902c412_83c8_11ea_a6ba_0242ac1c0002row3_col3 {\n",
       "            background-color:  #b40426;\n",
       "            color:  #f1f1f1;\n",
       "        }    #T_e902c412_83c8_11ea_a6ba_0242ac1c0002row3_col4 {\n",
       "            background-color:  #dc5d4a;\n",
       "            color:  #000000;\n",
       "        }    #T_e902c412_83c8_11ea_a6ba_0242ac1c0002row3_col5 {\n",
       "            background-color:  #84a7fc;\n",
       "            color:  #000000;\n",
       "        }    #T_e902c412_83c8_11ea_a6ba_0242ac1c0002row4_col0 {\n",
       "            background-color:  #bb1b2c;\n",
       "            color:  #f1f1f1;\n",
       "        }    #T_e902c412_83c8_11ea_a6ba_0242ac1c0002row4_col1 {\n",
       "            background-color:  #de614d;\n",
       "            color:  #000000;\n",
       "        }    #T_e902c412_83c8_11ea_a6ba_0242ac1c0002row4_col2 {\n",
       "            background-color:  #4b64d5;\n",
       "            color:  #f1f1f1;\n",
       "        }    #T_e902c412_83c8_11ea_a6ba_0242ac1c0002row4_col3 {\n",
       "            background-color:  #e46e56;\n",
       "            color:  #000000;\n",
       "        }    #T_e902c412_83c8_11ea_a6ba_0242ac1c0002row4_col4 {\n",
       "            background-color:  #b40426;\n",
       "            color:  #f1f1f1;\n",
       "        }    #T_e902c412_83c8_11ea_a6ba_0242ac1c0002row4_col5 {\n",
       "            background-color:  #4f69d9;\n",
       "            color:  #000000;\n",
       "        }    #T_e902c412_83c8_11ea_a6ba_0242ac1c0002row5_col0 {\n",
       "            background-color:  #9abbff;\n",
       "            color:  #000000;\n",
       "        }    #T_e902c412_83c8_11ea_a6ba_0242ac1c0002row5_col1 {\n",
       "            background-color:  #7a9df8;\n",
       "            color:  #000000;\n",
       "        }    #T_e902c412_83c8_11ea_a6ba_0242ac1c0002row5_col2 {\n",
       "            background-color:  #8caffe;\n",
       "            color:  #000000;\n",
       "        }    #T_e902c412_83c8_11ea_a6ba_0242ac1c0002row5_col3 {\n",
       "            background-color:  #7a9df8;\n",
       "            color:  #000000;\n",
       "        }    #T_e902c412_83c8_11ea_a6ba_0242ac1c0002row5_col4 {\n",
       "            background-color:  #90b2fe;\n",
       "            color:  #000000;\n",
       "        }    #T_e902c412_83c8_11ea_a6ba_0242ac1c0002row5_col5 {\n",
       "            background-color:  #b40426;\n",
       "            color:  #f1f1f1;\n",
       "        }</style><table id=\"T_e902c412_83c8_11ea_a6ba_0242ac1c0002\" ><thead>    <tr>        <th class=\"blank level0\" ></th>        <th class=\"col_heading level0 col0\" >MAX_TEMPERATURE_C</th>        <th class=\"col_heading level0 col1\" >MIN_TEMPERATURE_C</th>        <th class=\"col_heading level0 col2\" >WINDSPEED_MAX_KMH</th>        <th class=\"col_heading level0 col3\" >TEMPERATURE_MORNING_C</th>        <th class=\"col_heading level0 col4\" >TEMPERATURE_NOON_C</th>        <th class=\"col_heading level0 col5\" >DAY_OF_YEAR</th>    </tr></thead><tbody>\n",
       "                <tr>\n",
       "                        <th id=\"T_e902c412_83c8_11ea_a6ba_0242ac1c0002level0_row0\" class=\"row_heading level0 row0\" >MAX_TEMPERATURE_C</th>\n",
       "                        <td id=\"T_e902c412_83c8_11ea_a6ba_0242ac1c0002row0_col0\" class=\"data row0 col0\" >1.000000</td>\n",
       "                        <td id=\"T_e902c412_83c8_11ea_a6ba_0242ac1c0002row0_col1\" class=\"data row0 col1\" >0.876892</td>\n",
       "                        <td id=\"T_e902c412_83c8_11ea_a6ba_0242ac1c0002row0_col2\" class=\"data row0 col2\" >-0.114510</td>\n",
       "                        <td id=\"T_e902c412_83c8_11ea_a6ba_0242ac1c0002row0_col3\" class=\"data row0 col3\" >0.825536</td>\n",
       "                        <td id=\"T_e902c412_83c8_11ea_a6ba_0242ac1c0002row0_col4\" class=\"data row0 col4\" >0.975441</td>\n",
       "                        <td id=\"T_e902c412_83c8_11ea_a6ba_0242ac1c0002row0_col5\" class=\"data row0 col5\" >0.203357</td>\n",
       "            </tr>\n",
       "            <tr>\n",
       "                        <th id=\"T_e902c412_83c8_11ea_a6ba_0242ac1c0002level0_row1\" class=\"row_heading level0 row1\" >MIN_TEMPERATURE_C</th>\n",
       "                        <td id=\"T_e902c412_83c8_11ea_a6ba_0242ac1c0002row1_col0\" class=\"data row1 col0\" >0.876892</td>\n",
       "                        <td id=\"T_e902c412_83c8_11ea_a6ba_0242ac1c0002row1_col1\" class=\"data row1 col1\" >1.000000</td>\n",
       "                        <td id=\"T_e902c412_83c8_11ea_a6ba_0242ac1c0002row1_col2\" class=\"data row1 col2\" >0.116357</td>\n",
       "                        <td id=\"T_e902c412_83c8_11ea_a6ba_0242ac1c0002row1_col3\" class=\"data row1 col3\" >0.950702</td>\n",
       "                        <td id=\"T_e902c412_83c8_11ea_a6ba_0242ac1c0002row1_col4\" class=\"data row1 col4\" >0.888389</td>\n",
       "                        <td id=\"T_e902c412_83c8_11ea_a6ba_0242ac1c0002row1_col5\" class=\"data row1 col5\" >0.290540</td>\n",
       "            </tr>\n",
       "            <tr>\n",
       "                        <th id=\"T_e902c412_83c8_11ea_a6ba_0242ac1c0002level0_row2\" class=\"row_heading level0 row2\" >WINDSPEED_MAX_KMH</th>\n",
       "                        <td id=\"T_e902c412_83c8_11ea_a6ba_0242ac1c0002row2_col0\" class=\"data row2 col0\" >-0.114510</td>\n",
       "                        <td id=\"T_e902c412_83c8_11ea_a6ba_0242ac1c0002row2_col1\" class=\"data row2 col1\" >0.116357</td>\n",
       "                        <td id=\"T_e902c412_83c8_11ea_a6ba_0242ac1c0002row2_col2\" class=\"data row2 col2\" >1.000000</td>\n",
       "                        <td id=\"T_e902c412_83c8_11ea_a6ba_0242ac1c0002row2_col3\" class=\"data row2 col3\" >0.189827</td>\n",
       "                        <td id=\"T_e902c412_83c8_11ea_a6ba_0242ac1c0002row2_col4\" class=\"data row2 col4\" >-0.053186</td>\n",
       "                        <td id=\"T_e902c412_83c8_11ea_a6ba_0242ac1c0002row2_col5\" class=\"data row2 col5\" >0.161394</td>\n",
       "            </tr>\n",
       "            <tr>\n",
       "                        <th id=\"T_e902c412_83c8_11ea_a6ba_0242ac1c0002level0_row3\" class=\"row_heading level0 row3\" >TEMPERATURE_MORNING_C</th>\n",
       "                        <td id=\"T_e902c412_83c8_11ea_a6ba_0242ac1c0002row3_col0\" class=\"data row3 col0\" >0.825536</td>\n",
       "                        <td id=\"T_e902c412_83c8_11ea_a6ba_0242ac1c0002row3_col1\" class=\"data row3 col1\" >0.950702</td>\n",
       "                        <td id=\"T_e902c412_83c8_11ea_a6ba_0242ac1c0002row3_col2\" class=\"data row3 col2\" >0.189827</td>\n",
       "                        <td id=\"T_e902c412_83c8_11ea_a6ba_0242ac1c0002row3_col3\" class=\"data row3 col3\" >1.000000</td>\n",
       "                        <td id=\"T_e902c412_83c8_11ea_a6ba_0242ac1c0002row3_col4\" class=\"data row3 col4\" >0.874102</td>\n",
       "                        <td id=\"T_e902c412_83c8_11ea_a6ba_0242ac1c0002row3_col5\" class=\"data row3 col5\" >0.349943</td>\n",
       "            </tr>\n",
       "            <tr>\n",
       "                        <th id=\"T_e902c412_83c8_11ea_a6ba_0242ac1c0002level0_row4\" class=\"row_heading level0 row4\" >TEMPERATURE_NOON_C</th>\n",
       "                        <td id=\"T_e902c412_83c8_11ea_a6ba_0242ac1c0002row4_col0\" class=\"data row4 col0\" >0.975441</td>\n",
       "                        <td id=\"T_e902c412_83c8_11ea_a6ba_0242ac1c0002row4_col1\" class=\"data row4 col1\" >0.888389</td>\n",
       "                        <td id=\"T_e902c412_83c8_11ea_a6ba_0242ac1c0002row4_col2\" class=\"data row4 col2\" >-0.053186</td>\n",
       "                        <td id=\"T_e902c412_83c8_11ea_a6ba_0242ac1c0002row4_col3\" class=\"data row4 col3\" >0.874102</td>\n",
       "                        <td id=\"T_e902c412_83c8_11ea_a6ba_0242ac1c0002row4_col4\" class=\"data row4 col4\" >1.000000</td>\n",
       "                        <td id=\"T_e902c412_83c8_11ea_a6ba_0242ac1c0002row4_col5\" class=\"data row4 col5\" >0.219433</td>\n",
       "            </tr>\n",
       "            <tr>\n",
       "                        <th id=\"T_e902c412_83c8_11ea_a6ba_0242ac1c0002level0_row5\" class=\"row_heading level0 row5\" >DAY_OF_YEAR</th>\n",
       "                        <td id=\"T_e902c412_83c8_11ea_a6ba_0242ac1c0002row5_col0\" class=\"data row5 col0\" >0.203357</td>\n",
       "                        <td id=\"T_e902c412_83c8_11ea_a6ba_0242ac1c0002row5_col1\" class=\"data row5 col1\" >0.290540</td>\n",
       "                        <td id=\"T_e902c412_83c8_11ea_a6ba_0242ac1c0002row5_col2\" class=\"data row5 col2\" >0.161394</td>\n",
       "                        <td id=\"T_e902c412_83c8_11ea_a6ba_0242ac1c0002row5_col3\" class=\"data row5 col3\" >0.349943</td>\n",
       "                        <td id=\"T_e902c412_83c8_11ea_a6ba_0242ac1c0002row5_col4\" class=\"data row5 col4\" >0.219433</td>\n",
       "                        <td id=\"T_e902c412_83c8_11ea_a6ba_0242ac1c0002row5_col5\" class=\"data row5 col5\" >1.000000</td>\n",
       "            </tr>\n",
       "    </tbody></table>"
      ],
      "text/plain": [
       "<pandas.io.formats.style.Styler at 0x7fdd77fb0f28>"
      ]
     },
     "execution_count": 7,
     "metadata": {
      "tags": []
     },
     "output_type": "execute_result"
    }
   ],
   "source": [
    "df_weather.corr().style.background_gradient(cmap='coolwarm')"
   ]
  },
  {
   "cell_type": "code",
   "execution_count": null,
   "metadata": {
    "colab": {
     "base_uri": "https://localhost:8080/",
     "height": 297
    },
    "colab_type": "code",
    "executionInfo": {
     "elapsed": 871,
     "status": "ok",
     "timestamp": 1587471048139,
     "user": {
      "displayName": "Pierre Mur",
      "photoUrl": "",
      "userId": "07069703174558487986"
     },
     "user_tz": -120
    },
    "id": "YAa3QJClpdXl",
    "outputId": "f7dbc86b-0ca9-49ee-ab54-8ebb343bf26a"
   },
   "outputs": [
    {
     "data": {
      "text/plain": [
       "<matplotlib.axes._subplots.AxesSubplot at 0x7fdd77c77eb8>"
      ]
     },
     "execution_count": 8,
     "metadata": {
      "tags": []
     },
     "output_type": "execute_result"
    },
    {
     "data": {
      "image/png": "[encoded data removed]",
      "text/plain": [
       "<Figure size 432x288 with 1 Axes>"
      ]
     },
     "metadata": {
      "needs_background": "light",
      "tags": []
     },
     "output_type": "display_data"
    }
   ],
   "source": [
    "sns.scatterplot(data = df_weather, x = 'DAY_OF_YEAR', y = 'MAX_TEMPERATURE_C')"
   ]
  },
  {
   "cell_type": "markdown",
   "metadata": {
    "colab_type": "text",
    "id": "51_cj0ObwXsZ"
   },
   "source": [
    "## On observe bien la corrélation"
   ]
  },
  {
   "cell_type": "code",
   "execution_count": null,
   "metadata": {
    "colab": {
     "base_uri": "https://localhost:8080/",
     "height": 297
    },
    "colab_type": "code",
    "executionInfo": {
     "elapsed": 653,
     "status": "ok",
     "timestamp": 1587471159219,
     "user": {
      "displayName": "Pierre Mur",
      "photoUrl": "",
      "userId": "07069703174558487986"
     },
     "user_tz": -120
    },
    "id": "CR6Iq0A7pyIT",
    "outputId": "4a06d4c9-c2a4-4863-dd48-f2f56b01073d"
   },
   "outputs": [
    {
     "data": {
      "text/plain": [
       "<matplotlib.axes._subplots.AxesSubplot at 0x7fdd77c77898>"
      ]
     },
     "execution_count": 9,
     "metadata": {
      "tags": []
     },
     "output_type": "execute_result"
    },
    {
     "data": {
      "image/png": "[encoded data removed]",
      "text/plain": [
       "<Figure size 432x288 with 1 Axes>"
      ]
     },
     "metadata": {
      "needs_background": "light",
      "tags": []
     },
     "output_type": "display_data"
    }
   ],
   "source": [
    "sns.scatterplot(data = df_weather, x = 'MIN_TEMPERATURE_C', y = 'MAX_TEMPERATURE_C')"
   ]
  },
  {
   "cell_type": "code",
   "execution_count": null,
   "metadata": {
    "colab": {
     "base_uri": "https://localhost:8080/",
     "height": 297
    },
    "colab_type": "code",
    "executionInfo": {
     "elapsed": 1652,
     "status": "ok",
     "timestamp": 1587471228512,
     "user": {
      "displayName": "Pierre Mur",
      "photoUrl": "",
      "userId": "07069703174558487986"
     },
     "user_tz": -120
    },
    "id": "FZE1KPjtqIOr",
    "outputId": "0c8823d6-e3fe-4d0f-fe26-d5b89b844af5"
   },
   "outputs": [
    {
     "data": {
      "text/plain": [
       "<matplotlib.axes._subplots.AxesSubplot at 0x7fdd77be93c8>"
      ]
     },
     "execution_count": 10,
     "metadata": {
      "tags": []
     },
     "output_type": "execute_result"
    },
    {
     "data": {
      "image/png": "[encoded data removed]",
      "text/plain": [
       "<Figure size 432x288 with 1 Axes>"
      ]
     },
     "metadata": {
      "needs_background": "light",
      "tags": []
     },
     "output_type": "display_data"
    }
   ],
   "source": [
    "sns.regplot(data = df_weather, x = 'MIN_TEMPERATURE_C', y = 'MAX_TEMPERATURE_C')"
   ]
  },
  {
   "cell_type": "markdown",
   "metadata": {
    "colab_type": "text",
    "id": "BHi4TbkqqS0I"
   },
   "source": [
    "# Régression linéaire via NumPy"
   ]
  },
  {
   "cell_type": "code",
   "execution_count": null,
   "metadata": {
    "colab": {},
    "colab_type": "code",
    "id": "7CouavsJqVgu"
   },
   "outputs": [],
   "source": [
    "Xaxis = df_weather['MIN_TEMPERATURE_C']\n",
    "Yaxis = df_weather['MAX_TEMPERATURE_C']"
   ]
  },
  {
   "cell_type": "code",
   "execution_count": null,
   "metadata": {
    "colab": {},
    "colab_type": "code",
    "id": "m6bblUEiqnYC"
   },
   "outputs": [],
   "source": [
    "equation = np.polyfit(x = Xaxis, y = Yaxis, deg =1 )"
   ]
  },
  {
   "cell_type": "code",
   "execution_count": null,
   "metadata": {
    "colab": {
     "base_uri": "https://localhost:8080/",
     "height": 34
    },
    "colab_type": "code",
    "executionInfo": {
     "elapsed": 1080,
     "status": "ok",
     "timestamp": 1587471495260,
     "user": {
      "displayName": "Pierre Mur",
      "photoUrl": "",
      "userId": "07069703174558487986"
     },
     "user_tz": -120
    },
    "id": "AxmbBuhyrHFF",
    "outputId": "70eb4745-6ef7-4501-8e73-e8715eab85bb"
   },
   "outputs": [
    {
     "data": {
      "text/plain": [
       "array([1.22274205, 5.68903121])"
      ]
     },
     "execution_count": 16,
     "metadata": {
      "tags": []
     },
     "output_type": "execute_result"
    }
   ],
   "source": [
    "equation"
   ]
  },
  {
   "cell_type": "code",
   "execution_count": null,
   "metadata": {
    "colab": {
     "base_uri": "https://localhost:8080/",
     "height": 34
    },
    "colab_type": "code",
    "executionInfo": {
     "elapsed": 1515,
     "status": "ok",
     "timestamp": 1587471683482,
     "user": {
      "displayName": "Pierre Mur",
      "photoUrl": "",
      "userId": "07069703174558487986"
     },
     "user_tz": -120
    },
    "id": "OU2fsb2mresU",
    "outputId": "441f599d-e452-43bd-fb69-a3e1a86708bb"
   },
   "outputs": [
    {
     "data": {
      "text/plain": [
       "36.257582469689964"
      ]
     },
     "execution_count": 20,
     "metadata": {
      "tags": []
     },
     "output_type": "execute_result"
    }
   ],
   "source": [
    "equation[0]*25 + equation[1]"
   ]
  },
  {
   "cell_type": "markdown",
   "metadata": {
    "colab_type": "text",
    "id": "220okDdEwdwu"
   },
   "source": [
    "## Régression polynomiale"
   ]
  },
  {
   "cell_type": "code",
   "execution_count": null,
   "metadata": {
    "colab": {},
    "colab_type": "code",
    "id": "HvcyCmVfsAab"
   },
   "outputs": [],
   "source": [
    "equation = np.polyfit(x = Xaxis, y = Yaxis, deg =3 )"
   ]
  },
  {
   "cell_type": "code",
   "execution_count": null,
   "metadata": {
    "colab": {
     "base_uri": "https://localhost:8080/",
     "height": 34
    },
    "colab_type": "code",
    "executionInfo": {
     "elapsed": 658,
     "status": "ok",
     "timestamp": 1587471733420,
     "user": {
      "displayName": "Pierre Mur",
      "photoUrl": "",
      "userId": "07069703174558487986"
     },
     "user_tz": -120
    },
    "id": "WdIiB6EssEob",
    "outputId": "9a03eb3e-3f4d-44e2-f888-2b0f7ef89077"
   },
   "outputs": [
    {
     "data": {
      "text/plain": [
       "array([-1.87273494e-03,  7.84155053e-02,  3.37690951e-01,  8.08591587e+00])"
      ]
     },
     "execution_count": 22,
     "metadata": {
      "tags": []
     },
     "output_type": "execute_result"
    }
   ],
   "source": [
    "equation"
   ]
  },
  {
   "cell_type": "markdown",
   "metadata": {
    "colab_type": "text",
    "id": "SeccuBgHwg57"
   },
   "source": [
    "## Résolution avec la fonction dédiée numpy"
   ]
  },
  {
   "cell_type": "code",
   "execution_count": null,
   "metadata": {
    "colab": {},
    "colab_type": "code",
    "id": "hBTSrNQksmDU"
   },
   "outputs": [],
   "source": [
    "equation = np.polyfit(x = Xaxis, y = Yaxis, deg =1 )"
   ]
  },
  {
   "cell_type": "markdown",
   "metadata": {
    "colab_type": "text",
    "id": "InUfUEFFwkdi"
   },
   "source": [
    "### La fonction fonctionne sur les listes et les arrays et les séries"
   ]
  },
  {
   "cell_type": "code",
   "execution_count": null,
   "metadata": {
    "colab": {
     "base_uri": "https://localhost:8080/",
     "height": 34
    },
    "colab_type": "code",
    "executionInfo": {
     "elapsed": 546,
     "status": "ok",
     "timestamp": 1587471934053,
     "user": {
      "displayName": "Pierre Mur",
      "photoUrl": "",
      "userId": "07069703174558487986"
     },
     "user_tz": -120
    },
    "id": "eGYQa5PnsXcY",
    "outputId": "4352790a-81a8-4258-b259-4949b1a91633"
   },
   "outputs": [
    {
     "data": {
      "text/plain": [
       "array([ 5.68903121, 17.91645172, 36.25758247])"
      ]
     },
     "execution_count": 25,
     "metadata": {
      "tags": []
     },
     "output_type": "execute_result"
    }
   ],
   "source": [
    "np.poly1d(equation)([0, 10, 25])"
   ]
  },
  {
   "cell_type": "code",
   "execution_count": null,
   "metadata": {
    "colab": {
     "base_uri": "https://localhost:8080/",
     "height": 1000
    },
    "colab_type": "code",
    "executionInfo": {
     "elapsed": 992,
     "status": "ok",
     "timestamp": 1587472048018,
     "user": {
      "displayName": "Pierre Mur",
      "photoUrl": "",
      "userId": "07069703174558487986"
     },
     "user_tz": -120
    },
    "id": "tN_Lfe2KtNud",
    "outputId": "64fd1fa5-56bc-49b5-d975-911062c93859"
   },
   "outputs": [
    {
     "data": {
      "text/plain": [
       "array([10.57999942, 11.80274147,  5.68903121,  4.46628916,  4.46628916,\n",
       "        8.13451531, 10.57999942, 13.02548352, 11.80274147,  6.91177326,\n",
       "        8.13451531,  9.35725737, 14.24822557, 15.47096762, 10.57999942,\n",
       "        6.91177326, 11.80274147,  6.91177326, 13.02548352, 10.57999942,\n",
       "        5.68903121, 11.80274147,  9.35725737,  5.68903121, 15.47096762,\n",
       "       15.47096762, 14.24822557, 10.57999942, 11.80274147,  9.35725737,\n",
       "        8.13451531, 13.02548352,  8.13451531,  5.68903121, 11.80274147,\n",
       "       10.57999942, 17.91645172, 16.69370967, 15.47096762, 16.69370967,\n",
       "       15.47096762, 11.80274147,  9.35725737,  8.13451531,  8.13451531,\n",
       "       13.02548352, 13.02548352, 14.24822557, 11.80274147, 11.80274147,\n",
       "       10.57999942, 13.02548352, 14.24822557, 15.47096762, 11.80274147,\n",
       "       11.80274147, 14.24822557, 16.69370967, 16.69370967, 14.24822557,\n",
       "       13.02548352, 16.69370967, 14.24822557, 14.24822557, 16.69370967,\n",
       "       13.02548352, 11.80274147, 15.47096762, 15.47096762, 11.80274147,\n",
       "       10.57999942, 13.02548352, 13.02548352, 17.91645172, 17.91645172,\n",
       "       11.80274147, 10.57999942,  9.35725737, 10.57999942, 11.80274147,\n",
       "       13.02548352, 14.24822557, 11.80274147,  9.35725737,  6.91177326,\n",
       "        8.13451531,  9.35725737, 10.57999942, 13.02548352, 14.24822557,\n",
       "       13.02548352, 13.02548352,  9.35725737,  6.91177326, 11.80274147,\n",
       "       10.57999942, 14.24822557, 11.80274147, 13.02548352, 11.80274147,\n",
       "       13.02548352,  8.13451531,  8.13451531, 10.57999942, 10.57999942,\n",
       "       15.47096762, 14.24822557, 16.69370967, 20.36193582, 19.13919377,\n",
       "       19.13919377, 17.91645172, 19.13919377, 16.69370967, 14.24822557,\n",
       "       13.02548352, 14.24822557, 13.02548352, 13.02548352, 13.02548352,\n",
       "       16.69370967, 14.24822557, 13.02548352, 11.80274147,  8.13451531,\n",
       "        9.35725737, 13.02548352, 16.69370967, 16.69370967, 15.47096762,\n",
       "       17.91645172, 14.24822557, 13.02548352, 15.47096762, 16.69370967,\n",
       "       15.47096762, 17.91645172, 17.91645172, 15.47096762, 15.47096762,\n",
       "       15.47096762, 19.13919377, 21.58467787, 17.91645172, 17.91645172,\n",
       "       19.13919377, 21.58467787, 16.69370967, 15.47096762, 19.13919377,\n",
       "       19.13919377, 25.25290402, 24.03016197, 22.80741992, 21.58467787,\n",
       "       17.91645172, 16.69370967, 21.58467787, 19.13919377, 17.91645172,\n",
       "       16.69370967, 14.24822557, 15.47096762, 17.91645172, 17.91645172,\n",
       "       17.91645172, 21.58467787, 17.91645172, 26.47564607, 22.80741992,\n",
       "       20.36193582, 17.91645172, 19.13919377, 24.03016197, 25.25290402,\n",
       "       24.03016197, 28.92113017, 33.81209837, 36.25758247, 27.69838812,\n",
       "       25.25290402, 24.03016197, 19.13919377, 24.03016197, 25.25290402,\n",
       "       26.47564607, 27.69838812, 25.25290402, 24.03016197, 22.80741992,\n",
       "       24.03016197, 27.69838812, 26.47564607, 21.58467787, 24.03016197,\n",
       "       21.58467787, 22.80741992, 24.03016197, 21.58467787, 22.80741992,\n",
       "       25.25290402, 24.03016197, 25.25290402, 31.36661427, 28.92113017,\n",
       "       33.81209837, 17.91645172, 22.80741992, 20.36193582, 21.58467787,\n",
       "       24.03016197, 22.80741992, 22.80741992, 24.03016197, 26.47564607,\n",
       "       25.25290402, 25.25290402, 26.47564607, 24.03016197, 24.03016197,\n",
       "       28.92113017, 24.03016197, 22.80741992, 21.58467787, 17.91645172,\n",
       "       21.58467787, 24.03016197, 22.80741992, 27.69838812, 22.80741992,\n",
       "       21.58467787, 20.36193582, 20.36193582, 22.80741992, 24.03016197,\n",
       "       27.69838812, 25.25290402, 26.47564607, 28.92113017, 25.25290402,\n",
       "       24.03016197, 22.80741992, 24.03016197, 21.58467787, 17.91645172,\n",
       "       19.13919377, 21.58467787, 17.91645172, 14.24822557, 20.36193582,\n",
       "       16.69370967, 17.91645172, 17.91645172, 19.13919377, 22.80741992,\n",
       "       22.80741992, 25.25290402, 25.25290402, 24.03016197, 21.58467787,\n",
       "       20.36193582, 19.13919377, 19.13919377, 26.47564607, 24.03016197,\n",
       "       21.58467787, 24.03016197, 22.80741992, 25.25290402, 22.80741992,\n",
       "       21.58467787, 21.58467787, 20.36193582, 22.80741992, 19.13919377,\n",
       "       16.69370967, 21.58467787, 21.58467787, 20.36193582, 11.80274147,\n",
       "       20.36193582, 20.36193582, 20.36193582, 20.36193582, 21.58467787,\n",
       "       24.03016197, 21.58467787, 17.91645172, 20.36193582, 17.91645172,\n",
       "       21.58467787, 20.36193582, 19.13919377, 15.47096762, 15.47096762,\n",
       "       20.36193582, 20.36193582, 19.13919377, 20.36193582, 16.69370967,\n",
       "       16.69370967, 16.69370967, 16.69370967, 21.58467787, 20.36193582,\n",
       "       19.13919377, 15.47096762, 15.47096762, 15.47096762, 14.24822557,\n",
       "       11.80274147, 11.80274147, 11.80274147, 11.80274147, 14.24822557,\n",
       "       13.02548352, 10.57999942, 11.80274147,  8.13451531, 11.80274147,\n",
       "        9.35725737,  9.35725737, 10.57999942,  8.13451531, 11.80274147,\n",
       "       11.80274147, 14.24822557,  9.35725737, 19.13919377, 17.91645172,\n",
       "       19.13919377, 13.02548352, 15.47096762, 14.24822557,  9.35725737,\n",
       "        6.91177326,  6.91177326,  5.68903121,  6.91177326,  9.35725737,\n",
       "       17.91645172, 17.91645172, 13.02548352, 10.57999942, 11.80274147,\n",
       "       11.80274147,  8.13451531, 14.24822557, 10.57999942, 10.57999942,\n",
       "       14.24822557, 14.24822557, 19.13919377, 14.24822557, 16.69370967,\n",
       "       10.57999942, 11.80274147, 16.69370967, 15.47096762, 11.80274147,\n",
       "       17.91645172, 11.80274147,  8.13451531, 10.57999942, 10.57999942])"
      ]
     },
     "execution_count": 27,
     "metadata": {
      "tags": []
     },
     "output_type": "execute_result"
    }
   ],
   "source": [
    "np.poly1d(equation)(df_weather['MIN_TEMPERATURE_C'])"
   ]
  },
  {
   "cell_type": "markdown",
   "metadata": {
    "colab_type": "text",
    "id": "DMkbUcccwq8n"
   },
   "source": [
    "## Ajout d'une colonne avec les prédictions"
   ]
  },
  {
   "cell_type": "code",
   "execution_count": null,
   "metadata": {
    "colab": {},
    "colab_type": "code",
    "id": "H2P9fipntbfm"
   },
   "outputs": [],
   "source": [
    "df_weather['coucou'] = 'coucou'"
   ]
  },
  {
   "cell_type": "code",
   "execution_count": null,
   "metadata": {
    "colab": {},
    "colab_type": "code",
    "id": "OK04wRtYtkbB"
   },
   "outputs": [],
   "source": [
    "df_weather['max_predict'] = np.poly1d(equation)(df_weather['MIN_TEMPERATURE_C'])"
   ]
  },
  {
   "cell_type": "code",
   "execution_count": null,
   "metadata": {
    "colab": {
     "base_uri": "https://localhost:8080/",
     "height": 419
    },
    "colab_type": "code",
    "executionInfo": {
     "elapsed": 610,
     "status": "ok",
     "timestamp": 1587472207851,
     "user": {
      "displayName": "Pierre Mur",
      "photoUrl": "",
      "userId": "07069703174558487986"
     },
     "user_tz": -120
    },
    "id": "P46S6SL_tuMq",
    "outputId": "5452e18d-52df-4c95-da01-26ada381a171"
   },
   "outputs": [
    {
     "data": {
      "text/html": [
       "<div>\n",
       "<style scoped>\n",
       "    .dataframe tbody tr th:only-of-type {\n",
       "        vertical-align: middle;\n",
       "    }\n",
       "\n",
       "    .dataframe tbody tr th {\n",
       "        vertical-align: top;\n",
       "    }\n",
       "\n",
       "    .dataframe thead th {\n",
       "        text-align: right;\n",
       "    }\n",
       "</style>\n",
       "<table border=\"1\" class=\"dataframe\">\n",
       "  <thead>\n",
       "    <tr style=\"text-align: right;\">\n",
       "      <th></th>\n",
       "      <th>MAX_TEMPERATURE_C</th>\n",
       "      <th>MIN_TEMPERATURE_C</th>\n",
       "      <th>max_predict</th>\n",
       "    </tr>\n",
       "  </thead>\n",
       "  <tbody>\n",
       "    <tr>\n",
       "      <th>0</th>\n",
       "      <td>9</td>\n",
       "      <td>4</td>\n",
       "      <td>10.579999</td>\n",
       "    </tr>\n",
       "    <tr>\n",
       "      <th>1</th>\n",
       "      <td>8</td>\n",
       "      <td>5</td>\n",
       "      <td>11.802741</td>\n",
       "    </tr>\n",
       "    <tr>\n",
       "      <th>2</th>\n",
       "      <td>6</td>\n",
       "      <td>0</td>\n",
       "      <td>5.689031</td>\n",
       "    </tr>\n",
       "    <tr>\n",
       "      <th>3</th>\n",
       "      <td>5</td>\n",
       "      <td>-1</td>\n",
       "      <td>4.466289</td>\n",
       "    </tr>\n",
       "    <tr>\n",
       "      <th>4</th>\n",
       "      <td>6</td>\n",
       "      <td>-1</td>\n",
       "      <td>4.466289</td>\n",
       "    </tr>\n",
       "    <tr>\n",
       "      <th>...</th>\n",
       "      <td>...</td>\n",
       "      <td>...</td>\n",
       "      <td>...</td>\n",
       "    </tr>\n",
       "    <tr>\n",
       "      <th>360</th>\n",
       "      <td>13</td>\n",
       "      <td>10</td>\n",
       "      <td>17.916452</td>\n",
       "    </tr>\n",
       "    <tr>\n",
       "      <th>361</th>\n",
       "      <td>11</td>\n",
       "      <td>5</td>\n",
       "      <td>11.802741</td>\n",
       "    </tr>\n",
       "    <tr>\n",
       "      <th>362</th>\n",
       "      <td>9</td>\n",
       "      <td>2</td>\n",
       "      <td>8.134515</td>\n",
       "    </tr>\n",
       "    <tr>\n",
       "      <th>363</th>\n",
       "      <td>12</td>\n",
       "      <td>4</td>\n",
       "      <td>10.579999</td>\n",
       "    </tr>\n",
       "    <tr>\n",
       "      <th>364</th>\n",
       "      <td>10</td>\n",
       "      <td>4</td>\n",
       "      <td>10.579999</td>\n",
       "    </tr>\n",
       "  </tbody>\n",
       "</table>\n",
       "<p>365 rows × 3 columns</p>\n",
       "</div>"
      ],
      "text/plain": [
       "     MAX_TEMPERATURE_C  MIN_TEMPERATURE_C  max_predict\n",
       "0                    9                  4    10.579999\n",
       "1                    8                  5    11.802741\n",
       "2                    6                  0     5.689031\n",
       "3                    5                 -1     4.466289\n",
       "4                    6                 -1     4.466289\n",
       "..                 ...                ...          ...\n",
       "360                 13                 10    17.916452\n",
       "361                 11                  5    11.802741\n",
       "362                  9                  2     8.134515\n",
       "363                 12                  4    10.579999\n",
       "364                 10                  4    10.579999\n",
       "\n",
       "[365 rows x 3 columns]"
      ]
     },
     "execution_count": 33,
     "metadata": {
      "tags": []
     },
     "output_type": "execute_result"
    }
   ],
   "source": [
    "df_weather[['MAX_TEMPERATURE_C', 'MIN_TEMPERATURE_C', 'max_predict']]"
   ]
  },
  {
   "cell_type": "markdown",
   "metadata": {
    "colab_type": "text",
    "id": "j_nE72YRwu6X"
   },
   "source": [
    "## Affichage de la régression en rouge"
   ]
  },
  {
   "cell_type": "code",
   "execution_count": null,
   "metadata": {
    "colab": {
     "base_uri": "https://localhost:8080/",
     "height": 297
    },
    "colab_type": "code",
    "executionInfo": {
     "elapsed": 1497,
     "status": "ok",
     "timestamp": 1587472305315,
     "user": {
      "displayName": "Pierre Mur",
      "photoUrl": "",
      "userId": "07069703174558487986"
     },
     "user_tz": -120
    },
    "id": "m7qtdrsduHLT",
    "outputId": "f3e90592-b6a3-4617-9063-331ad90de569"
   },
   "outputs": [
    {
     "data": {
      "text/plain": [
       "<matplotlib.axes._subplots.AxesSubplot at 0x7fdd778b6ef0>"
      ]
     },
     "execution_count": 35,
     "metadata": {
      "tags": []
     },
     "output_type": "execute_result"
    },
    {
     "data": {
      "image/png": "[encoded data removed]",
      "text/plain": [
       "<Figure size 432x288 with 1 Axes>"
      ]
     },
     "metadata": {
      "needs_background": "light",
      "tags": []
     },
     "output_type": "display_data"
    }
   ],
   "source": [
    "sns.regplot(data = df_weather, x = 'MIN_TEMPERATURE_C', y = 'MAX_TEMPERATURE_C')\n",
    "sns.scatterplot(data = df_weather, x = 'MIN_TEMPERATURE_C', y = 'max_predict', color = 'red')"
   ]
  },
  {
   "cell_type": "markdown",
   "metadata": {
    "colab_type": "text",
    "id": "NWfSfvsUwxRz"
   },
   "source": [
    "## Affichage de cette même régression mais avec les températures en abscisse, elle ne parait plus du tout linéaire, et pourtant elle l'est !"
   ]
  },
  {
   "cell_type": "code",
   "execution_count": null,
   "metadata": {
    "colab": {
     "base_uri": "https://localhost:8080/",
     "height": 297
    },
    "colab_type": "code",
    "executionInfo": {
     "elapsed": 2463,
     "status": "ok",
     "timestamp": 1587472562423,
     "user": {
      "displayName": "Pierre Mur",
      "photoUrl": "",
      "userId": "07069703174558487986"
     },
     "user_tz": -120
    },
    "id": "qTcTQiRBuffl",
    "outputId": "36f1fbe1-99e1-4c0d-c7b0-4ada2659a9d6"
   },
   "outputs": [
    {
     "data": {
      "text/plain": [
       "<matplotlib.axes._subplots.AxesSubplot at 0x7fdd776f2908>"
      ]
     },
     "execution_count": 38,
     "metadata": {
      "tags": []
     },
     "output_type": "execute_result"
    },
    {
     "data": {
      "image/png": "[encoded data removed]",
      "text/plain": [
       "<Figure size 432x288 with 1 Axes>"
      ]
     },
     "metadata": {
      "needs_background": "light",
      "tags": []
     },
     "output_type": "display_data"
    }
   ],
   "source": [
    "sns.scatterplot(data = df_weather,x = 'DAY_OF_YEAR', y = 'MAX_TEMPERATURE_C' )\n",
    "sns.scatterplot(data = df_weather,x = 'DAY_OF_YEAR', y = 'max_predict', color = 'red' )"
   ]
  }
 ],
 "metadata": {
  "colab": {
   "authorship_tag": "ABX9TyNq8xfuKphq6Ty6hJDlp5jJ",
   "collapsed_sections": [],
   "name": "20200421 Linear regression.ipynb",
   "provenance": []
  },
  "kernelspec": {
   "display_name": "Python 3",
   "language": "python",
   "name": "python3"
  },
  "language_info": {
   "codemirror_mode": {
    "name": "ipython",
    "version": 3
   },
   "file_extension": ".py",
   "mimetype": "text/x-python",
   "name": "python",
   "nbconvert_exporter": "python",
   "pygments_lexer": "ipython3",
   "version": "3.7.6"
  }
 },
 "nbformat": 4,
 "nbformat_minor": 4
}
